{
 "cells": [
  {
   "cell_type": "markdown",
   "id": "b528875e-b8ec-4460-87e7-c43ae4969639",
   "metadata": {},
   "source": [
    "# 🌸 Flower Species EDA\n",
    "\n",
    "This project performs **Exploratory Data Analysis (EDA)** on the famous **Iris Dataset** to identify patterns in petal and sepal measurements across three flower species: **Setosa**, **Versicolor**, and **Virginica**.\n",
    "\n",
    "---\n",
    "\n",
    "## 📌 Project Overview\n",
    "The Iris dataset is one of the most well-known datasets in the data science community.  \n",
    "The goal of this project is to:\n",
    "- Understand the structure and characteristics of the dataset.\n",
    "- Identify relationships between variables.\n",
    "- Visualize patterns for better understanding and insights.\n",
    "\n",
    "---\n",
    "\n",
    "## 📊 Key Features\n",
    "- **Data Cleaning & Preprocessing**  \n",
    "  - Checked for missing values and data consistency.\n",
    "  - Ensured correct data types.\n",
    "\n",
    "- **Univariate Analysis**  \n",
    "  - Distribution plots for petal and sepal lengths and widths.\n",
    "  - Histograms and violin plots.\n",
    "\n",
    "- **Bivariate Analysis**  \n",
    "  - Pairplots to explore relationships between features.\n",
    "  - Comparison across species.\n",
    "\n",
    "- **Insights**  \n",
    "  - *Setosa* is the most easily separable species based on petal measurements.\n",
    "  - Overlap exists between *Versicolor* and *Virginica* for some features.\n",
    "\n",
    "---\n",
    "\n",
    "## 🛠️ Tech Stack\n",
    "- **Languages**: Python  \n",
    "- **Libraries**: Pandas, NumPy, Matplotlib, Seaborn  \n",
    "- **Environment**: Jupyter Notebook\n",
    "\n",
    "---\n",
    "\n",
    "\n",
    "## 📂 Project Structure\n",
    "```plaintext\n",
    "flower-species-EDA/\n",
    "│\n",
    "├── EDA 1.ipynb          (Main Jupyter notebook\n",
    "├── requirements.txt     (List of required libraries\n",
    "├── README.md            (Project documentation\n",
    "└── dataset              (Iris dataset if included\n"
   ]
  },
  {
   "cell_type": "code",
   "execution_count": null,
   "id": "9309709f-2122-4920-a716-867c2bc9b96f",
   "metadata": {},
   "outputs": [],
   "source": []
  }
 ],
 "metadata": {
  "kernelspec": {
   "display_name": "Python 3 (ipykernel)",
   "language": "python",
   "name": "python3"
  },
  "language_info": {
   "codemirror_mode": {
    "name": "ipython",
    "version": 3
   },
   "file_extension": ".py",
   "mimetype": "text/x-python",
   "name": "python",
   "nbconvert_exporter": "python",
   "pygments_lexer": "ipython3",
   "version": "3.12.6"
  }
 },
 "nbformat": 4,
 "nbformat_minor": 5
}
